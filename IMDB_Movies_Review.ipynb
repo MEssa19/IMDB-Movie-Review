{
  "nbformat": 4,
  "nbformat_minor": 0,
  "metadata": {
    "colab": {
      "provenance": []
    },
    "kernelspec": {
      "name": "python3",
      "display_name": "Python 3"
    },
    "language_info": {
      "name": "python"
    }
  },
  "cells": [
    {
      "cell_type": "code",
      "source": [],
      "metadata": {
        "id": "V9cW6StXRMgh"
      },
      "execution_count": null,
      "outputs": []
    },
    {
      "cell_type": "code",
      "source": [],
      "metadata": {
        "id": "mKpBQZOmRNRO"
      },
      "execution_count": null,
      "outputs": []
    },
    {
      "cell_type": "markdown",
      "source": [
        "## **# Step 1: Load the Dataset**"
      ],
      "metadata": {
        "id": "ZWYly47ORSk9"
      }
    },
    {
      "cell_type": "code",
      "execution_count": null,
      "metadata": {
        "id": "1V9TlGC3PLJg"
      },
      "outputs": [],
      "source": [
        "import pandas as pd\n",
        "import re\n",
        "# Load dataset\n",
        "file_path = \"/content/sample_data/IMDB Dataset.csv\"\n",
        "df = pd.read_csv(file_path)\n",
        "\n",
        "# Display first few rows\n",
        "df.head()"
      ]
    },
    {
      "cell_type": "markdown",
      "source": [
        "## **# Step 2: Text Preprocessing**"
      ],
      "metadata": {
        "id": "wp8R9UzgRGrX"
      }
    },
    {
      "cell_type": "code",
      "source": [
        "# Function to clean text\n",
        "def clean_text(text):\n",
        "    text = text.lower()\n",
        "    text = re.sub(r'<.*?>', '', text)  # Remove HTML tags\n",
        "    text = re.sub(r'[^a-zA-Z0-9 ]', '', text)  # Remove special characters\n",
        "    return text\n",
        "\n",
        "# Apply text cleaning\n",
        "df['review'] = df['review'].astype(str).apply(clean_text)\n",
        "\n",
        "# Convert sentiment labels to numeric values\n",
        "df['sentiment'] = df['sentiment'].map({'positive': 1, 'negative': 0})\n",
        "\n",
        "# Display cleaned data\n",
        "df.head()\n"
      ],
      "metadata": {
        "id": "ZtZqE7cUPl72"
      },
      "execution_count": null,
      "outputs": []
    },
    {
      "cell_type": "markdown",
      "source": [
        "##**# Step 3: Import Libraries for Data Splitting**"
      ],
      "metadata": {
        "id": "MiwxsIVOQ_sr"
      }
    },
    {
      "cell_type": "code",
      "source": [
        "from sklearn.model_selection import train_test_split\n",
        "# Split data into training and testing sets\n",
        "X_train, X_test, y_train, y_test = train_test_split(df['review'], df['sentiment'], test_size=0.2, random_state=42)\n"
      ],
      "metadata": {
        "id": "iKngTiUtPo70"
      },
      "execution_count": null,
      "outputs": []
    },
    {
      "cell_type": "markdown",
      "source": [
        "## **# Step 4: Import Libraries for Feature Extraction**"
      ],
      "metadata": {
        "id": "eWCxz7l8QwvX"
      }
    },
    {
      "cell_type": "code",
      "source": [
        "from sklearn.feature_extraction.text import TfidfVectorizer\n",
        "# Convert text to TF-IDF vectors\n",
        "vectorizer = TfidfVectorizer(max_features=5000)\n",
        "X_train_tfidf = vectorizer.fit_transform(X_train)\n",
        "X_test_tfidf = vectorizer.transform(X_test)\n"
      ],
      "metadata": {
        "id": "S8utMPmaPsNZ"
      },
      "execution_count": null,
      "outputs": []
    },
    {
      "cell_type": "markdown",
      "source": [
        "## **# Step 5: Import Libraries for Model Training**"
      ],
      "metadata": {
        "id": "u2_cab2oQjwB"
      }
    },
    {
      "cell_type": "code",
      "source": [
        "from sklearn.linear_model import LogisticRegression\n",
        "# Train Logistic Regression model\n",
        "model = LogisticRegression()\n",
        "model.fit(X_train_tfidf, y_train)\n"
      ],
      "metadata": {
        "id": "x_BTUUxOPv9c"
      },
      "execution_count": null,
      "outputs": []
    },
    {
      "cell_type": "markdown",
      "source": [
        "##**# Step 6: Import Libraries for Model Evaluation**"
      ],
      "metadata": {
        "id": "3A2nnpbkQaGR"
      }
    },
    {
      "cell_type": "code",
      "source": [
        "from sklearn.metrics import accuracy_score, f1_score\n",
        "# Make predictions\n",
        "y_pred = model.predict(X_test_tfidf)\n",
        "\n",
        "# Print evaluation metrics\n",
        "print(\"Accuracy:\", accuracy_score(y_test, y_pred))\n",
        "print(\"F1 Score:\", f1_score(y_test, y_pred))\n"
      ],
      "metadata": {
        "id": "-G6KTnlxPzbR"
      },
      "execution_count": null,
      "outputs": []
    },
    {
      "cell_type": "markdown",
      "source": [
        "##**# Step 7: Import Library for Model Saving**"
      ],
      "metadata": {
        "id": "mMRhVTX3QNpR"
      }
    },
    {
      "cell_type": "code",
      "source": [
        "import pickle\n",
        "# Save model and vectorizer\n",
        "pickle.dump(model, open(\"sentiment_model.pkl\", \"wb\"))\n",
        "pickle.dump(vectorizer, open(\"vectorizer.pkl\", \"wb\"))\n"
      ],
      "metadata": {
        "id": "Rh3XQ8S4P3AG"
      },
      "execution_count": null,
      "outputs": []
    },
    {
      "cell_type": "markdown",
      "source": [
        "## **# Step 8: Import Libraries for Flask Deployment**"
      ],
      "metadata": {
        "id": "Rqn8e0DNP-eJ"
      }
    },
    {
      "cell_type": "code",
      "source": [
        "from flask import Flask, request, jsonify\n",
        "# Initialize Flask app\n",
        "app = Flask(__name__)\n",
        "\n",
        "@app.route('/predict', methods=['POST'])\n",
        "def predict():\n",
        "    data = request.json['review']\n",
        "    data_clean = clean_text(data)\n",
        "    data_tfidf = vectorizer.transform([data_clean])\n",
        "    prediction = model.predict(data_tfidf)[0]\n",
        "    sentiment = \"positive\" if prediction == 1 else \"negative\"\n",
        "    return jsonify({'sentiment': sentiment})\n",
        "\n",
        "if __name__ == '__main__':\n",
        "    app.run(debug=True)\n"
      ],
      "metadata": {
        "id": "7uJb4BgGP6z9"
      },
      "execution_count": null,
      "outputs": []
    }
  ]
}